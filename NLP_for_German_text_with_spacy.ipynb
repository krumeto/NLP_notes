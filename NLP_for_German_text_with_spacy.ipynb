{
  "nbformat": 4,
  "nbformat_minor": 0,
  "metadata": {
    "colab": {
      "name": "NLP for German text with spacy.ipynb",
      "provenance": [],
      "authorship_tag": "ABX9TyP4kAgoy/waNwinb+pvZZkw",
      "include_colab_link": true
    },
    "kernelspec": {
      "name": "python3",
      "display_name": "Python 3"
    },
    "accelerator": "GPU"
  },
  "cells": [
    {
      "cell_type": "markdown",
      "metadata": {
        "id": "view-in-github",
        "colab_type": "text"
      },
      "source": [
        "<a href=\"https://colab.research.google.com/github/krumeto/NLP_notes/blob/master/NLP_for_German_text_with_spacy.ipynb\" target=\"_parent\"><img src=\"https://colab.research.google.com/assets/colab-badge.svg\" alt=\"Open In Colab\"/></a>"
      ]
    },
    {
      "cell_type": "code",
      "metadata": {
        "id": "GIr_n74cPCX1"
      },
      "source": [
        "import spacy"
      ],
      "execution_count": null,
      "outputs": []
    },
    {
      "cell_type": "code",
      "metadata": {
        "id": "1hykrg4TPN3d",
        "colab": {
          "base_uri": "https://localhost:8080/",
          "height": 574
        },
        "outputId": "0365c11a-2891-49a5-cfa5-496a28264307"
      },
      "source": [
        "#Download medium german pretrained model\n",
        "!python -m spacy download de_core_news_md\n"
      ],
      "execution_count": null,
      "outputs": [
        {
          "output_type": "stream",
          "text": [
            "Collecting de_core_news_md==2.2.5\n",
            "\u001b[?25l  Downloading https://github.com/explosion/spacy-models/releases/download/de_core_news_md-2.2.5/de_core_news_md-2.2.5.tar.gz (224.6MB)\n",
            "\u001b[K     |████████████████████████████████| 224.6MB 1.3MB/s \n",
            "\u001b[?25hRequirement already satisfied: spacy>=2.2.2 in /usr/local/lib/python3.6/dist-packages (from de_core_news_md==2.2.5) (2.2.4)\n",
            "Requirement already satisfied: thinc==7.4.0 in /usr/local/lib/python3.6/dist-packages (from spacy>=2.2.2->de_core_news_md==2.2.5) (7.4.0)\n",
            "Requirement already satisfied: setuptools in /usr/local/lib/python3.6/dist-packages (from spacy>=2.2.2->de_core_news_md==2.2.5) (50.3.0)\n",
            "Requirement already satisfied: srsly<1.1.0,>=1.0.2 in /usr/local/lib/python3.6/dist-packages (from spacy>=2.2.2->de_core_news_md==2.2.5) (1.0.2)\n",
            "Requirement already satisfied: requests<3.0.0,>=2.13.0 in /usr/local/lib/python3.6/dist-packages (from spacy>=2.2.2->de_core_news_md==2.2.5) (2.23.0)\n",
            "Requirement already satisfied: cymem<2.1.0,>=2.0.2 in /usr/local/lib/python3.6/dist-packages (from spacy>=2.2.2->de_core_news_md==2.2.5) (2.0.3)\n",
            "Requirement already satisfied: catalogue<1.1.0,>=0.0.7 in /usr/local/lib/python3.6/dist-packages (from spacy>=2.2.2->de_core_news_md==2.2.5) (1.0.0)\n",
            "Requirement already satisfied: wasabi<1.1.0,>=0.4.0 in /usr/local/lib/python3.6/dist-packages (from spacy>=2.2.2->de_core_news_md==2.2.5) (0.8.0)\n",
            "Requirement already satisfied: numpy>=1.15.0 in /usr/local/lib/python3.6/dist-packages (from spacy>=2.2.2->de_core_news_md==2.2.5) (1.18.5)\n",
            "Requirement already satisfied: blis<0.5.0,>=0.4.0 in /usr/local/lib/python3.6/dist-packages (from spacy>=2.2.2->de_core_news_md==2.2.5) (0.4.1)\n",
            "Requirement already satisfied: plac<1.2.0,>=0.9.6 in /usr/local/lib/python3.6/dist-packages (from spacy>=2.2.2->de_core_news_md==2.2.5) (1.1.3)\n",
            "Requirement already satisfied: tqdm<5.0.0,>=4.38.0 in /usr/local/lib/python3.6/dist-packages (from spacy>=2.2.2->de_core_news_md==2.2.5) (4.41.1)\n",
            "Requirement already satisfied: murmurhash<1.1.0,>=0.28.0 in /usr/local/lib/python3.6/dist-packages (from spacy>=2.2.2->de_core_news_md==2.2.5) (1.0.2)\n",
            "Requirement already satisfied: preshed<3.1.0,>=3.0.2 in /usr/local/lib/python3.6/dist-packages (from spacy>=2.2.2->de_core_news_md==2.2.5) (3.0.2)\n",
            "Requirement already satisfied: idna<3,>=2.5 in /usr/local/lib/python3.6/dist-packages (from requests<3.0.0,>=2.13.0->spacy>=2.2.2->de_core_news_md==2.2.5) (2.10)\n",
            "Requirement already satisfied: certifi>=2017.4.17 in /usr/local/lib/python3.6/dist-packages (from requests<3.0.0,>=2.13.0->spacy>=2.2.2->de_core_news_md==2.2.5) (2020.6.20)\n",
            "Requirement already satisfied: chardet<4,>=3.0.2 in /usr/local/lib/python3.6/dist-packages (from requests<3.0.0,>=2.13.0->spacy>=2.2.2->de_core_news_md==2.2.5) (3.0.4)\n",
            "Requirement already satisfied: urllib3!=1.25.0,!=1.25.1,<1.26,>=1.21.1 in /usr/local/lib/python3.6/dist-packages (from requests<3.0.0,>=2.13.0->spacy>=2.2.2->de_core_news_md==2.2.5) (1.24.3)\n",
            "Requirement already satisfied: importlib-metadata>=0.20; python_version < \"3.8\" in /usr/local/lib/python3.6/dist-packages (from catalogue<1.1.0,>=0.0.7->spacy>=2.2.2->de_core_news_md==2.2.5) (1.7.0)\n",
            "Requirement already satisfied: zipp>=0.5 in /usr/local/lib/python3.6/dist-packages (from importlib-metadata>=0.20; python_version < \"3.8\"->catalogue<1.1.0,>=0.0.7->spacy>=2.2.2->de_core_news_md==2.2.5) (3.1.0)\n",
            "Building wheels for collected packages: de-core-news-md\n",
            "  Building wheel for de-core-news-md (setup.py) ... \u001b[?25l\u001b[?25hdone\n",
            "  Created wheel for de-core-news-md: filename=de_core_news_md-2.2.5-cp36-none-any.whl size=228399479 sha256=405eea2b5b9d9b46a9155d9eb8c0be1928b29e5211501ba310a339190b63467d\n",
            "  Stored in directory: /tmp/pip-ephem-wheel-cache-8gdstu9_/wheels/41/60/41/81898870259d7c19fe8f9e46a537611c939f0c425eee2e1785\n",
            "Successfully built de-core-news-md\n",
            "Installing collected packages: de-core-news-md\n",
            "Successfully installed de-core-news-md-2.2.5\n",
            "\u001b[38;5;2m✔ Download and installation successful\u001b[0m\n",
            "You can now load the model via spacy.load('de_core_news_md')\n"
          ],
          "name": "stdout"
        }
      ]
    },
    {
      "cell_type": "code",
      "metadata": {
        "id": "Qdgv9QXtPOUi"
      },
      "source": [
        "# Create an nlp object\n",
        "import de_core_news_md\n",
        "nlp = de_core_news_md.load()"
      ],
      "execution_count": null,
      "outputs": []
    },
    {
      "cell_type": "code",
      "metadata": {
        "id": "7h06V8erPOXH"
      },
      "source": [
        "# Example document\n",
        "document = \"\"\"Sehr geehrte Frau Dr. Graf,\n",
        "\n",
        "mein Name ist Max Mustermann und ich bin Inhaber des Unternehmens BG Architekten GmbH.\n",
        "\n",
        "Ihrer umfangreichen Homepage entnehme ich, dass Sie sich insbesondere mit dem Thema Badezimmerprodukte befassen. Deshalb möchte ich Ihnen auf diesem Wege einen Kooperationsvorschlag machen.\n",
        "\n",
        "Sollte Ihrerseits Interesse bestehen, würde ich mich gerne bei Ihnen telefonisch melden, um alles Weitere im Detail zu besprechen.\n",
        "\n",
        "Über eine Antwort Ihrerseits würde ich mich sehr freuen!\n",
        "\n",
        "Herzliche Grüße nach Jona und einen guten Start in die Woche\n",
        "\n",
        "Max Mustermann\"\"\""
      ],
      "execution_count": null,
      "outputs": []
    },
    {
      "cell_type": "code",
      "metadata": {
        "id": "uNGiYPt8POZy"
      },
      "source": [
        "# Created by processing a string of text with the nlp object\n",
        "doc = nlp(document)"
      ],
      "execution_count": null,
      "outputs": []
    },
    {
      "cell_type": "markdown",
      "metadata": {
        "id": "qFQp1zKiRu1P"
      },
      "source": [
        "### Tokenization\n",
        "Tokenization separates sentence(s) into pieces called tokens. For English, it normally uses whitespace as a separator with special treatments for punctuations, emoji. etc. SpaCy allows customization of most of its features (e.g. add infix \"-\" as a seperator for tokenization).\n",
        "\n",
        "Hiererarcy: Corpus > document > sentence > word > sub-word > character > subcharacter > stroke\n",
        "\n"
      ]
    },
    {
      "cell_type": "code",
      "metadata": {
        "id": "U5nx0LB-POcV",
        "colab": {
          "base_uri": "https://localhost:8080/",
          "height": 1000
        },
        "outputId": "f2dbd850-e0f5-4281-d6f3-c977131bbcc2"
      },
      "source": [
        "# For each token, print its token number and token text \n",
        "i = 0\n",
        "for token in doc:\n",
        "    i += 1\n",
        "    print (f\"{i} {token.text}\")"
      ],
      "execution_count": null,
      "outputs": [
        {
          "output_type": "stream",
          "text": [
            "1 Sehr\n",
            "2 geehrte\n",
            "3 Frau\n",
            "4 Dr.\n",
            "5 Graf\n",
            "6 ,\n",
            "7 \n",
            "\n",
            "\n",
            "8 mein\n",
            "9 Name\n",
            "10 ist\n",
            "11 Max\n",
            "12 Mustermann\n",
            "13 und\n",
            "14 ich\n",
            "15 bin\n",
            "16 Inhaber\n",
            "17 des\n",
            "18 Unternehmens\n",
            "19 \"\n",
            "20 BG\n",
            "21 Architekten\n",
            "22 \"\n",
            "23 GmbH.\n",
            "24 \n",
            "\n",
            "\n",
            "25 Ihrer\n",
            "26 umfangreichen\n",
            "27 Homepage\n",
            "28 entnehme\n",
            "29 ich\n",
            "30 ,\n",
            "31 dass\n",
            "32 Sie\n",
            "33 sich\n",
            "34 insbesondere\n",
            "35 mit\n",
            "36 dem\n",
            "37 Thema\n",
            "38 Badezimmerprodukte\n",
            "39 befassen\n",
            "40 .\n",
            "41 Deshalb\n",
            "42 möchte\n",
            "43 ich\n",
            "44 Ihnen\n",
            "45 auf\n",
            "46 diesem\n",
            "47 Wege\n",
            "48 einen\n",
            "49 Kooperationsvorschlag\n",
            "50 machen\n",
            "51 .\n",
            "52 \n",
            "\n",
            "\n",
            "53 Sollte\n",
            "54 Ihrerseits\n",
            "55 Interesse\n",
            "56 bestehen\n",
            "57 ,\n",
            "58 würde\n",
            "59 ich\n",
            "60 mich\n",
            "61 gerne\n",
            "62 bei\n",
            "63 Ihnen\n",
            "64 telefonisch\n",
            "65 melden\n",
            "66 ,\n",
            "67 um\n",
            "68 alles\n",
            "69 Weitere\n",
            "70 im\n",
            "71 Detail\n",
            "72 zu\n",
            "73 besprechen\n",
            "74 .\n",
            "75 \n",
            "\n",
            "\n",
            "76 Über\n",
            "77 eine\n",
            "78 Antwort\n",
            "79 Ihrerseits\n",
            "80 würde\n",
            "81 ich\n",
            "82 mich\n",
            "83 sehr\n",
            "84 freuen\n",
            "85 !\n",
            "86 \n",
            "\n",
            "\n",
            "87 Herzliche\n",
            "88 Grüße\n",
            "89 nach\n",
            "90 Jona\n",
            "91 und\n",
            "92 einen\n",
            "93 guten\n",
            "94 Start\n",
            "95 in\n",
            "96 die\n",
            "97 Woche\n",
            "98 \n",
            "\n",
            "\n",
            "99 Max\n",
            "100 Mustermann\n"
          ],
          "name": "stdout"
        }
      ]
    },
    {
      "cell_type": "code",
      "metadata": {
        "id": "k-o9WiEWST6a",
        "colab": {
          "base_uri": "https://localhost:8080/",
          "height": 34
        },
        "outputId": "1effa135-b20d-4058-c170-dd3a2cabcd6c"
      },
      "source": [
        "#stopwords\n",
        "# By default, spaCy contains a few hundred stop words for German \n",
        "spacy_stop_words = spacy.lang.de.stop_words.STOP_WORDS\n",
        "len(spacy_stop_words)"
      ],
      "execution_count": null,
      "outputs": [
        {
          "output_type": "execute_result",
          "data": {
            "text/plain": [
              "543"
            ]
          },
          "metadata": {
            "tags": []
          },
          "execution_count": 7
        }
      ]
    },
    {
      "cell_type": "code",
      "metadata": {
        "id": "rg_bE-a2POfA",
        "colab": {
          "base_uri": "https://localhost:8080/",
          "height": 185
        },
        "outputId": "56e5ab09-4842-4f09-89c2-873075bd8f7e"
      },
      "source": [
        "# Print 10 stop words\n",
        "list(spacy_stop_words)[:10]"
      ],
      "execution_count": null,
      "outputs": [
        {
          "output_type": "execute_result",
          "data": {
            "text/plain": [
              "['groß',\n",
              " 'ihnen',\n",
              " 'wie',\n",
              " 'mögen',\n",
              " 'besten',\n",
              " 'dritter',\n",
              " 'ihrer',\n",
              " 'ins',\n",
              " 'siebter',\n",
              " 'drei']"
            ]
          },
          "metadata": {
            "tags": []
          },
          "execution_count": 8
        }
      ]
    },
    {
      "cell_type": "code",
      "metadata": {
        "id": "qctxOMt2POhR"
      },
      "source": [
        "#Lemmatization\n",
        "#Lemmatization converts a word into its inflected form (lemma) while still ensuring that the reduced form (lemma) belongs to the language, which might not be the case for stemming. \n",
        "#For each token, print its token number, token text, and lemma \n",
        "#i = 0\n",
        "#for token in doc:\n",
        "#    i += 1\n",
        "#    print (f\"{i} {token.text} \\t\\t {token.lemma_}\")"
      ],
      "execution_count": null,
      "outputs": []
    },
    {
      "cell_type": "code",
      "metadata": {
        "id": "Hug0mNPuTJ_E",
        "colab": {
          "base_uri": "https://localhost:8080/",
          "height": 336
        },
        "outputId": "b4a56309-b865-4cf8-f843-95e82e08ecc0"
      },
      "source": [
        "# for each sentence, print sentence number and text\n",
        "i = 0\n",
        "for sentence in doc.sents:\n",
        "    i += 1\n",
        "    print (f\"{i} {sentence}\")"
      ],
      "execution_count": null,
      "outputs": [
        {
          "output_type": "stream",
          "text": [
            "1 Sehr geehrte Frau Dr. Graf,\n",
            "\n",
            "\n",
            "2 mein Name ist Max Mustermann und ich bin Inhaber des Unternehmens \"BG Architekten\"\n",
            "3 GmbH.\n",
            "\n",
            "Ihrer umfangreichen Homepage entnehme ich, dass Sie sich insbesondere mit dem Thema Badezimmerprodukte befassen.\n",
            "4 Deshalb möchte ich Ihnen auf diesem Wege einen Kooperationsvorschlag machen.\n",
            "\n",
            "\n",
            "5 Sollte Ihrerseits Interesse bestehen, würde ich mich gerne bei Ihnen telefonisch melden, um alles Weitere im Detail zu besprechen.\n",
            "\n",
            "\n",
            "6 Über eine Antwort Ihrerseits würde ich mich sehr freuen!\n",
            "\n",
            "\n",
            "7 Herzliche Grüße nach Jona und einen guten Start in die Woche\n",
            "\n",
            "Max Mustermann\n"
          ],
          "name": "stdout"
        }
      ]
    },
    {
      "cell_type": "markdown",
      "metadata": {
        "id": "DpC0rxIRTtSQ"
      },
      "source": [
        "### Statistical Models\n",
        "SpaCy comes with 3 deep neural network (DNN) based models:\n",
        "\n",
        "1. Part-of-speech (POS) tagger\n",
        "2. Named entity recognizer (NER)\n",
        "3. Syntactic dependency parser'=\n",
        "\n",
        "SpaCy used supervised Seq2Seq convolutional neural network (CNN) with sub-word embedding, residual connections, and layer normalization in a multi-task fashion to train those models. These models can be retrained if you have your own labeled data.\n",
        "\n",
        "#### Part-of-speech (POS)\n",
        "POS indicates which category a word is assigned to in accordance with its syntactic functions.\n",
        "\n",
        "Examples:\n",
        "\n",
        "- Noun\n",
        "- Pronoun\n",
        "- Proper noun\n",
        "- Adjective\n",
        "- Verb\n",
        "- Adverb\n",
        "- Adposition\n",
        "- Auxiliary\n",
        "- Punctuation\n",
        "- Determiner\n",
        "- Subordinating conjunction\n",
        "- Interjection"
      ]
    },
    {
      "cell_type": "code",
      "metadata": {
        "id": "h1rHNfIqTeG3",
        "colab": {
          "base_uri": "https://localhost:8080/",
          "height": 1000
        },
        "outputId": "6061338d-6255-4a48-9dc8-cc0d3b65d3a7"
      },
      "source": [
        "# For each token, print its token number, token text, and POS \n",
        "i = 0\n",
        "for token in doc:\n",
        "    i += 1\n",
        "    print (f\"{i} {token.text} \\t\\t {token.pos_}\")"
      ],
      "execution_count": null,
      "outputs": [
        {
          "output_type": "stream",
          "text": [
            "1 Sehr \t\t ADV\n",
            "2 geehrte \t\t ADJ\n",
            "3 Frau \t\t NOUN\n",
            "4 Dr. \t\t PROPN\n",
            "5 Graf \t\t PROPN\n",
            "6 , \t\t PUNCT\n",
            "7 \n",
            "\n",
            " \t\t SPACE\n",
            "8 mein \t\t DET\n",
            "9 Name \t\t NOUN\n",
            "10 ist \t\t AUX\n",
            "11 Max \t\t PROPN\n",
            "12 Mustermann \t\t PROPN\n",
            "13 und \t\t CCONJ\n",
            "14 ich \t\t PRON\n",
            "15 bin \t\t AUX\n",
            "16 Inhaber \t\t NOUN\n",
            "17 des \t\t DET\n",
            "18 Unternehmens \t\t NOUN\n",
            "19 \" \t\t PUNCT\n",
            "20 BG \t\t PROPN\n",
            "21 Architekten \t\t NOUN\n",
            "22 \" \t\t PUNCT\n",
            "23 GmbH. \t\t PROPN\n",
            "24 \n",
            "\n",
            " \t\t SPACE\n",
            "25 Ihrer \t\t DET\n",
            "26 umfangreichen \t\t ADJ\n",
            "27 Homepage \t\t NOUN\n",
            "28 entnehme \t\t VERB\n",
            "29 ich \t\t PRON\n",
            "30 , \t\t PUNCT\n",
            "31 dass \t\t SCONJ\n",
            "32 Sie \t\t PRON\n",
            "33 sich \t\t PRON\n",
            "34 insbesondere \t\t ADV\n",
            "35 mit \t\t ADP\n",
            "36 dem \t\t DET\n",
            "37 Thema \t\t NOUN\n",
            "38 Badezimmerprodukte \t\t NOUN\n",
            "39 befassen \t\t VERB\n",
            "40 . \t\t PUNCT\n",
            "41 Deshalb \t\t ADV\n",
            "42 möchte \t\t VERB\n",
            "43 ich \t\t PRON\n",
            "44 Ihnen \t\t PRON\n",
            "45 auf \t\t ADP\n",
            "46 diesem \t\t DET\n",
            "47 Wege \t\t NOUN\n",
            "48 einen \t\t DET\n",
            "49 Kooperationsvorschlag \t\t NOUN\n",
            "50 machen \t\t VERB\n",
            "51 . \t\t PUNCT\n",
            "52 \n",
            "\n",
            " \t\t SPACE\n",
            "53 Sollte \t\t VERB\n",
            "54 Ihrerseits \t\t ADV\n",
            "55 Interesse \t\t NOUN\n",
            "56 bestehen \t\t VERB\n",
            "57 , \t\t PUNCT\n",
            "58 würde \t\t AUX\n",
            "59 ich \t\t PRON\n",
            "60 mich \t\t PRON\n",
            "61 gerne \t\t ADV\n",
            "62 bei \t\t ADP\n",
            "63 Ihnen \t\t PRON\n",
            "64 telefonisch \t\t ADJ\n",
            "65 melden \t\t VERB\n",
            "66 , \t\t PUNCT\n",
            "67 um \t\t SCONJ\n",
            "68 alles \t\t DET\n",
            "69 Weitere \t\t NOUN\n",
            "70 im \t\t ADP\n",
            "71 Detail \t\t NOUN\n",
            "72 zu \t\t PART\n",
            "73 besprechen \t\t VERB\n",
            "74 . \t\t PUNCT\n",
            "75 \n",
            "\n",
            " \t\t SPACE\n",
            "76 Über \t\t ADP\n",
            "77 eine \t\t DET\n",
            "78 Antwort \t\t NOUN\n",
            "79 Ihrerseits \t\t ADV\n",
            "80 würde \t\t AUX\n",
            "81 ich \t\t PRON\n",
            "82 mich \t\t PRON\n",
            "83 sehr \t\t ADV\n",
            "84 freuen \t\t VERB\n",
            "85 ! \t\t PUNCT\n",
            "86 \n",
            "\n",
            " \t\t SPACE\n",
            "87 Herzliche \t\t ADJ\n",
            "88 Grüße \t\t NOUN\n",
            "89 nach \t\t ADP\n",
            "90 Jona \t\t PROPN\n",
            "91 und \t\t CCONJ\n",
            "92 einen \t\t DET\n",
            "93 guten \t\t ADJ\n",
            "94 Start \t\t NOUN\n",
            "95 in \t\t ADP\n",
            "96 die \t\t DET\n",
            "97 Woche \t\t NOUN\n",
            "98 \n",
            "\n",
            " \t\t SPACE\n",
            "99 Max \t\t PROPN\n",
            "100 Mustermann \t\t PROPN\n"
          ],
          "name": "stdout"
        }
      ]
    },
    {
      "cell_type": "markdown",
      "metadata": {
        "id": "UUS9Cxy1UKoW"
      },
      "source": [
        "### Named Entity Recognizer (NER)\n",
        "NER locates named entities and classifies them into pre-defined categories, such as:\n",
        "\n",
        "- PERSON People, including fictional.\n",
        "- FAC Buildings, airports, highways, bridges, etc.\n",
        "- ORG Companies, agencies, institutions, etc.\n",
        "- GPE Countries, cities, states.\n",
        "- PRODUCT Objects, vehicles, foods, etc. (Not services.)\n",
        "- EVENT Named hurricanes, battles, wars, sports events, etc.\n",
        "- DATE Absolute or relative dates or periods.\n",
        "- TIME Times smaller than a day.\n",
        "- MONEY Monetary values, including unit.\n",
        "- QUANTITY Measurements, as of weight or distance.\n",
        "- ORDINAL “first”, “second”, etc.\n",
        "- CARDINAL Numerals that do not fall under another type."
      ]
    },
    {
      "cell_type": "code",
      "metadata": {
        "id": "AwlHBxLfUIwj",
        "colab": {
          "base_uri": "https://localhost:8080/",
          "height": 151
        },
        "outputId": "2761d31c-00c0-4e48-c6a9-89fe61ea1cb7"
      },
      "source": [
        "# For each extracted token, print its token number, token text, and named entities \n",
        "i = 0\n",
        "for token in doc.ents:\n",
        "    i += 1\n",
        "    print (f\"{i} {token.text} \\t\\t {token.label_}\")"
      ],
      "execution_count": null,
      "outputs": [
        {
          "output_type": "stream",
          "text": [
            "1 Dr. Graf \t\t PER\n",
            "2 Max Mustermann \t\t PER\n",
            "3 Unternehmens BG \t\t ORG\n",
            "4 GmbH.\n",
            "\n",
            " \t\t PER\n",
            "5 Jona \t\t LOC\n",
            "6 Max Mustermann \t\t PER\n"
          ],
          "name": "stdout"
        }
      ]
    },
    {
      "cell_type": "code",
      "metadata": {
        "id": "d7FsYB4dUKMT",
        "colab": {
          "base_uri": "https://localhost:8080/",
          "height": 430
        },
        "outputId": "cd8b0af7-409a-488f-a375-9d455d20672b"
      },
      "source": [
        "# Visualize NER\n",
        "spacy.displacy.render(doc, style='ent', jupyter = True)"
      ],
      "execution_count": null,
      "outputs": [
        {
          "output_type": "display_data",
          "data": {
            "text/html": [
              "<span class=\"tex2jax_ignore\"><div class=\"entities\" style=\"line-height: 2.5; direction: ltr\">Sehr geehrte Frau \n",
              "<mark class=\"entity\" style=\"background: #ddd; padding: 0.45em 0.6em; margin: 0 0.25em; line-height: 1; border-radius: 0.35em;\">\n",
              "    Dr. Graf\n",
              "    <span style=\"font-size: 0.8em; font-weight: bold; line-height: 1; border-radius: 0.35em; text-transform: uppercase; vertical-align: middle; margin-left: 0.5rem\">PER</span>\n",
              "</mark>\n",
              ",</br></br>mein Name ist \n",
              "<mark class=\"entity\" style=\"background: #ddd; padding: 0.45em 0.6em; margin: 0 0.25em; line-height: 1; border-radius: 0.35em;\">\n",
              "    Max Mustermann\n",
              "    <span style=\"font-size: 0.8em; font-weight: bold; line-height: 1; border-radius: 0.35em; text-transform: uppercase; vertical-align: middle; margin-left: 0.5rem\">PER</span>\n",
              "</mark>\n",
              " und ich bin Inhaber des \n",
              "<mark class=\"entity\" style=\"background: #7aecec; padding: 0.45em 0.6em; margin: 0 0.25em; line-height: 1; border-radius: 0.35em;\">\n",
              "    Unternehmens BG\n",
              "    <span style=\"font-size: 0.8em; font-weight: bold; line-height: 1; border-radius: 0.35em; text-transform: uppercase; vertical-align: middle; margin-left: 0.5rem\">ORG</span>\n",
              "</mark>\n",
              " Architekten \n",
              "<mark class=\"entity\" style=\"background: #ddd; padding: 0.45em 0.6em; margin: 0 0.25em; line-height: 1; border-radius: 0.35em;\">\n",
              "    GmbH.\n",
              "\n",
              "\n",
              "    <span style=\"font-size: 0.8em; font-weight: bold; line-height: 1; border-radius: 0.35em; text-transform: uppercase; vertical-align: middle; margin-left: 0.5rem\">PER</span>\n",
              "</mark>\n",
              "Ihrer umfangreichen Homepage entnehme ich, dass Sie sich insbesondere mit dem Thema Badezimmerprodukte befassen. Deshalb möchte ich Ihnen auf diesem Wege einen Kooperationsvorschlag machen.</br></br>Sollte Ihrerseits Interesse bestehen, würde ich mich gerne bei Ihnen telefonisch melden, um alles Weitere im Detail zu besprechen.</br></br>Über eine Antwort Ihrerseits würde ich mich sehr freuen!</br></br>Herzliche Grüße nach \n",
              "<mark class=\"entity\" style=\"background: #ff9561; padding: 0.45em 0.6em; margin: 0 0.25em; line-height: 1; border-radius: 0.35em;\">\n",
              "    Jona\n",
              "    <span style=\"font-size: 0.8em; font-weight: bold; line-height: 1; border-radius: 0.35em; text-transform: uppercase; vertical-align: middle; margin-left: 0.5rem\">LOC</span>\n",
              "</mark>\n",
              " und einen guten Start in die Woche</br></br>\n",
              "<mark class=\"entity\" style=\"background: #ddd; padding: 0.45em 0.6em; margin: 0 0.25em; line-height: 1; border-radius: 0.35em;\">\n",
              "    Max Mustermann\n",
              "    <span style=\"font-size: 0.8em; font-weight: bold; line-height: 1; border-radius: 0.35em; text-transform: uppercase; vertical-align: middle; margin-left: 0.5rem\">PER</span>\n",
              "</mark>\n",
              "</div></span>"
            ],
            "text/plain": [
              "<IPython.core.display.HTML object>"
            ]
          },
          "metadata": {
            "tags": []
          }
        }
      ]
    },
    {
      "cell_type": "code",
      "metadata": {
        "id": "ZYsAA4prpNc0",
        "colab": {
          "base_uri": "https://localhost:8080/",
          "height": 35
        },
        "outputId": "2d6913b7-d67b-46b5-b83d-f16ef83fac21"
      },
      "source": [
        "spacy.explain('GPE')"
      ],
      "execution_count": null,
      "outputs": [
        {
          "output_type": "execute_result",
          "data": {
            "application/vnd.google.colaboratory.intrinsic+json": {
              "type": "string"
            },
            "text/plain": [
              "'Countries, cities, states'"
            ]
          },
          "metadata": {
            "tags": []
          },
          "execution_count": 40
        }
      ]
    },
    {
      "cell_type": "markdown",
      "metadata": {
        "id": "mFZPde2CVWkK"
      },
      "source": [
        "### Syntactic Dependency Parser\n",
        "This process extracts the dependency parse of a sentence to represent its grammatical structure. The extracted structured is represented as directed graph, and it can be used as features in some deep learning algorithms (Tree-Recursive Neural Network, Graph Neural Network, etc."
      ]
    },
    {
      "cell_type": "code",
      "metadata": {
        "id": "3uPiDfKMVVwN",
        "colab": {
          "base_uri": "https://localhost:8080/",
          "height": 1000
        },
        "outputId": "fe2ac760-ce8b-4603-e864-7b40162e7c05"
      },
      "source": [
        "# For each token, print its token number, token text, and dependency \n",
        "i = 0\n",
        "for token in doc:\n",
        "    i += 1\n",
        "    print (f\"{i} {token.text} \\t\\t {token.dep_} \\t\\t {token.head.text}\")"
      ],
      "execution_count": null,
      "outputs": [
        {
          "output_type": "stream",
          "text": [
            "1 Sehr \t\t mo \t\t geehrte\n",
            "2 geehrte \t\t nk \t\t Frau\n",
            "3 Frau \t\t ROOT \t\t Frau\n",
            "4 Dr. \t\t nk \t\t Frau\n",
            "5 Graf \t\t nk \t\t Dr.\n",
            "6 , \t\t punct \t\t Frau\n",
            "7 \n",
            "\n",
            " \t\t  \t\t ,\n",
            "8 mein \t\t nk \t\t Name\n",
            "9 Name \t\t pd \t\t ist\n",
            "10 ist \t\t ROOT \t\t ist\n",
            "11 Max \t\t pnc \t\t Mustermann\n",
            "12 Mustermann \t\t sb \t\t ist\n",
            "13 und \t\t cd \t\t Mustermann\n",
            "14 ich \t\t sb \t\t bin\n",
            "15 bin \t\t cj \t\t und\n",
            "16 Inhaber \t\t pd \t\t bin\n",
            "17 des \t\t nk \t\t Unternehmens\n",
            "18 Unternehmens \t\t ag \t\t Inhaber\n",
            "19 \" \t\t punct \t\t Architekten\n",
            "20 BG \t\t pnc \t\t Architekten\n",
            "21 Architekten \t\t nk \t\t Unternehmens\n",
            "22 \" \t\t punct \t\t Architekten\n",
            "23 GmbH. \t\t dep \t\t Homepage\n",
            "24 \n",
            "\n",
            " \t\t  \t\t GmbH.\n",
            "25 Ihrer \t\t nk \t\t Homepage\n",
            "26 umfangreichen \t\t nk \t\t Homepage\n",
            "27 Homepage \t\t da \t\t entnehme\n",
            "28 entnehme \t\t ROOT \t\t entnehme\n",
            "29 ich \t\t sb \t\t entnehme\n",
            "30 , \t\t punct \t\t entnehme\n",
            "31 dass \t\t cp \t\t befassen\n",
            "32 Sie \t\t sb \t\t befassen\n",
            "33 sich \t\t oa \t\t befassen\n",
            "34 insbesondere \t\t mo \t\t mit\n",
            "35 mit \t\t op \t\t befassen\n",
            "36 dem \t\t nk \t\t Thema\n",
            "37 Thema \t\t nk \t\t mit\n",
            "38 Badezimmerprodukte \t\t nk \t\t Thema\n",
            "39 befassen \t\t oc \t\t entnehme\n",
            "40 . \t\t punct \t\t entnehme\n",
            "41 Deshalb \t\t mo \t\t möchte\n",
            "42 möchte \t\t ROOT \t\t möchte\n",
            "43 ich \t\t sb \t\t möchte\n",
            "44 Ihnen \t\t da \t\t machen\n",
            "45 auf \t\t mo \t\t machen\n",
            "46 diesem \t\t nk \t\t Wege\n",
            "47 Wege \t\t nk \t\t auf\n",
            "48 einen \t\t nk \t\t Kooperationsvorschlag\n",
            "49 Kooperationsvorschlag \t\t oa \t\t machen\n",
            "50 machen \t\t oc \t\t möchte\n",
            "51 . \t\t punct \t\t möchte\n",
            "52 \n",
            "\n",
            " \t\t  \t\t .\n",
            "53 Sollte \t\t mo \t\t melden\n",
            "54 Ihrerseits \t\t mo \t\t Sollte\n",
            "55 Interesse \t\t oa \t\t bestehen\n",
            "56 bestehen \t\t oc \t\t Sollte\n",
            "57 , \t\t punct \t\t würde\n",
            "58 würde \t\t ROOT \t\t würde\n",
            "59 ich \t\t sb \t\t würde\n",
            "60 mich \t\t oa \t\t melden\n",
            "61 gerne \t\t mo \t\t melden\n",
            "62 bei \t\t mo \t\t melden\n",
            "63 Ihnen \t\t nk \t\t bei\n",
            "64 telefonisch \t\t mo \t\t melden\n",
            "65 melden \t\t oc \t\t würde\n",
            "66 , \t\t punct \t\t melden\n",
            "67 um \t\t cp \t\t besprechen\n",
            "68 alles \t\t nk \t\t Weitere\n",
            "69 Weitere \t\t oa \t\t besprechen\n",
            "70 im \t\t mnr \t\t Weitere\n",
            "71 Detail \t\t nk \t\t im\n",
            "72 zu \t\t pm \t\t besprechen\n",
            "73 besprechen \t\t mo \t\t melden\n",
            "74 . \t\t punct \t\t würde\n",
            "75 \n",
            "\n",
            " \t\t  \t\t .\n",
            "76 Über \t\t mo \t\t freuen\n",
            "77 eine \t\t nk \t\t Antwort\n",
            "78 Antwort \t\t nk \t\t Über\n",
            "79 Ihrerseits \t\t mnr \t\t Antwort\n",
            "80 würde \t\t ROOT \t\t würde\n",
            "81 ich \t\t sb \t\t würde\n",
            "82 mich \t\t oa \t\t freuen\n",
            "83 sehr \t\t mo \t\t freuen\n",
            "84 freuen \t\t oc \t\t würde\n",
            "85 ! \t\t punct \t\t würde\n",
            "86 \n",
            "\n",
            " \t\t  \t\t !\n",
            "87 Herzliche \t\t nk \t\t Grüße\n",
            "88 Grüße \t\t ROOT \t\t Grüße\n",
            "89 nach \t\t mnr \t\t Grüße\n",
            "90 Jona \t\t nk \t\t nach\n",
            "91 und \t\t cd \t\t Grüße\n",
            "92 einen \t\t nk \t\t Start\n",
            "93 guten \t\t nk \t\t Start\n",
            "94 Start \t\t cj \t\t und\n",
            "95 in \t\t mnr \t\t Start\n",
            "96 die \t\t nk \t\t Woche\n",
            "97 Woche \t\t nk \t\t in\n",
            "98 \n",
            "\n",
            " \t\t  \t\t Woche\n",
            "99 Max \t\t pnc \t\t Mustermann\n",
            "100 Mustermann \t\t nk \t\t Woche\n"
          ],
          "name": "stdout"
        }
      ]
    },
    {
      "cell_type": "code",
      "metadata": {
        "id": "KhQGfZ0xVVyn",
        "colab": {
          "base_uri": "https://localhost:8080/",
          "height": 615
        },
        "outputId": "a71f0487-5e89-467d-d536-5608344a9391"
      },
      "source": [
        "# Visualize syntactic dependency\n",
        "# Split into sentences\n",
        "sentence_spans = list(doc.sents)\n",
        "spacy.displacy.render(sentence_spans[3], style=\"dep\" , jupyter = True)"
      ],
      "execution_count": null,
      "outputs": [
        {
          "output_type": "display_data",
          "data": {
            "text/html": [
              "<span class=\"tex2jax_ignore\"><svg xmlns=\"http://www.w3.org/2000/svg\" xmlns:xlink=\"http://www.w3.org/1999/xlink\" xml:lang=\"de\" id=\"c64e871a1cba44a4bd14ec92c6215419-0\" class=\"displacy\" width=\"1975\" height=\"574.5\" direction=\"ltr\" style=\"max-width: none; height: 574.5px; color: #000000; background: #ffffff; font-family: Arial; direction: ltr\">\n",
              "<text class=\"displacy-token\" fill=\"currentColor\" text-anchor=\"middle\" y=\"484.5\">\n",
              "    <tspan class=\"displacy-word\" fill=\"currentColor\" x=\"50\">Deshalb</tspan>\n",
              "    <tspan class=\"displacy-tag\" dy=\"2em\" fill=\"currentColor\" x=\"50\">ADV</tspan>\n",
              "</text>\n",
              "\n",
              "<text class=\"displacy-token\" fill=\"currentColor\" text-anchor=\"middle\" y=\"484.5\">\n",
              "    <tspan class=\"displacy-word\" fill=\"currentColor\" x=\"225\">möchte</tspan>\n",
              "    <tspan class=\"displacy-tag\" dy=\"2em\" fill=\"currentColor\" x=\"225\">VERB</tspan>\n",
              "</text>\n",
              "\n",
              "<text class=\"displacy-token\" fill=\"currentColor\" text-anchor=\"middle\" y=\"484.5\">\n",
              "    <tspan class=\"displacy-word\" fill=\"currentColor\" x=\"400\">ich</tspan>\n",
              "    <tspan class=\"displacy-tag\" dy=\"2em\" fill=\"currentColor\" x=\"400\">PRON</tspan>\n",
              "</text>\n",
              "\n",
              "<text class=\"displacy-token\" fill=\"currentColor\" text-anchor=\"middle\" y=\"484.5\">\n",
              "    <tspan class=\"displacy-word\" fill=\"currentColor\" x=\"575\">Ihnen</tspan>\n",
              "    <tspan class=\"displacy-tag\" dy=\"2em\" fill=\"currentColor\" x=\"575\">PRON</tspan>\n",
              "</text>\n",
              "\n",
              "<text class=\"displacy-token\" fill=\"currentColor\" text-anchor=\"middle\" y=\"484.5\">\n",
              "    <tspan class=\"displacy-word\" fill=\"currentColor\" x=\"750\">auf</tspan>\n",
              "    <tspan class=\"displacy-tag\" dy=\"2em\" fill=\"currentColor\" x=\"750\">ADP</tspan>\n",
              "</text>\n",
              "\n",
              "<text class=\"displacy-token\" fill=\"currentColor\" text-anchor=\"middle\" y=\"484.5\">\n",
              "    <tspan class=\"displacy-word\" fill=\"currentColor\" x=\"925\">diesem</tspan>\n",
              "    <tspan class=\"displacy-tag\" dy=\"2em\" fill=\"currentColor\" x=\"925\">DET</tspan>\n",
              "</text>\n",
              "\n",
              "<text class=\"displacy-token\" fill=\"currentColor\" text-anchor=\"middle\" y=\"484.5\">\n",
              "    <tspan class=\"displacy-word\" fill=\"currentColor\" x=\"1100\">Wege</tspan>\n",
              "    <tspan class=\"displacy-tag\" dy=\"2em\" fill=\"currentColor\" x=\"1100\">NOUN</tspan>\n",
              "</text>\n",
              "\n",
              "<text class=\"displacy-token\" fill=\"currentColor\" text-anchor=\"middle\" y=\"484.5\">\n",
              "    <tspan class=\"displacy-word\" fill=\"currentColor\" x=\"1275\">einen</tspan>\n",
              "    <tspan class=\"displacy-tag\" dy=\"2em\" fill=\"currentColor\" x=\"1275\">DET</tspan>\n",
              "</text>\n",
              "\n",
              "<text class=\"displacy-token\" fill=\"currentColor\" text-anchor=\"middle\" y=\"484.5\">\n",
              "    <tspan class=\"displacy-word\" fill=\"currentColor\" x=\"1450\">Kooperationsvorschlag</tspan>\n",
              "    <tspan class=\"displacy-tag\" dy=\"2em\" fill=\"currentColor\" x=\"1450\">NOUN</tspan>\n",
              "</text>\n",
              "\n",
              "<text class=\"displacy-token\" fill=\"currentColor\" text-anchor=\"middle\" y=\"484.5\">\n",
              "    <tspan class=\"displacy-word\" fill=\"currentColor\" x=\"1625\">machen.</tspan>\n",
              "    <tspan class=\"displacy-tag\" dy=\"2em\" fill=\"currentColor\" x=\"1625\">VERB</tspan>\n",
              "</text>\n",
              "\n",
              "<text class=\"displacy-token\" fill=\"currentColor\" text-anchor=\"middle\" y=\"484.5\">\n",
              "    <tspan class=\"displacy-word\" fill=\"currentColor\" x=\"1800\">\n",
              "\n",
              "</tspan>\n",
              "    <tspan class=\"displacy-tag\" dy=\"2em\" fill=\"currentColor\" x=\"1800\">SPACE</tspan>\n",
              "</text>\n",
              "\n",
              "<g class=\"displacy-arrow\">\n",
              "    <path class=\"displacy-arc\" id=\"arrow-c64e871a1cba44a4bd14ec92c6215419-0-0\" stroke-width=\"2px\" d=\"M70,439.5 C70,352.0 205.0,352.0 205.0,439.5\" fill=\"none\" stroke=\"currentColor\"/>\n",
              "    <text dy=\"1.25em\" style=\"font-size: 0.8em; letter-spacing: 1px\">\n",
              "        <textPath xlink:href=\"#arrow-c64e871a1cba44a4bd14ec92c6215419-0-0\" class=\"displacy-label\" startOffset=\"50%\" side=\"left\" fill=\"currentColor\" text-anchor=\"middle\">mo</textPath>\n",
              "    </text>\n",
              "    <path class=\"displacy-arrowhead\" d=\"M70,441.5 L62,429.5 78,429.5\" fill=\"currentColor\"/>\n",
              "</g>\n",
              "\n",
              "<g class=\"displacy-arrow\">\n",
              "    <path class=\"displacy-arc\" id=\"arrow-c64e871a1cba44a4bd14ec92c6215419-0-1\" stroke-width=\"2px\" d=\"M245,439.5 C245,352.0 380.0,352.0 380.0,439.5\" fill=\"none\" stroke=\"currentColor\"/>\n",
              "    <text dy=\"1.25em\" style=\"font-size: 0.8em; letter-spacing: 1px\">\n",
              "        <textPath xlink:href=\"#arrow-c64e871a1cba44a4bd14ec92c6215419-0-1\" class=\"displacy-label\" startOffset=\"50%\" side=\"left\" fill=\"currentColor\" text-anchor=\"middle\">sb</textPath>\n",
              "    </text>\n",
              "    <path class=\"displacy-arrowhead\" d=\"M380.0,441.5 L388.0,429.5 372.0,429.5\" fill=\"currentColor\"/>\n",
              "</g>\n",
              "\n",
              "<g class=\"displacy-arrow\">\n",
              "    <path class=\"displacy-arc\" id=\"arrow-c64e871a1cba44a4bd14ec92c6215419-0-2\" stroke-width=\"2px\" d=\"M595,439.5 C595,89.5 1620.0,89.5 1620.0,439.5\" fill=\"none\" stroke=\"currentColor\"/>\n",
              "    <text dy=\"1.25em\" style=\"font-size: 0.8em; letter-spacing: 1px\">\n",
              "        <textPath xlink:href=\"#arrow-c64e871a1cba44a4bd14ec92c6215419-0-2\" class=\"displacy-label\" startOffset=\"50%\" side=\"left\" fill=\"currentColor\" text-anchor=\"middle\">da</textPath>\n",
              "    </text>\n",
              "    <path class=\"displacy-arrowhead\" d=\"M595,441.5 L587,429.5 603,429.5\" fill=\"currentColor\"/>\n",
              "</g>\n",
              "\n",
              "<g class=\"displacy-arrow\">\n",
              "    <path class=\"displacy-arc\" id=\"arrow-c64e871a1cba44a4bd14ec92c6215419-0-3\" stroke-width=\"2px\" d=\"M770,439.5 C770,177.0 1615.0,177.0 1615.0,439.5\" fill=\"none\" stroke=\"currentColor\"/>\n",
              "    <text dy=\"1.25em\" style=\"font-size: 0.8em; letter-spacing: 1px\">\n",
              "        <textPath xlink:href=\"#arrow-c64e871a1cba44a4bd14ec92c6215419-0-3\" class=\"displacy-label\" startOffset=\"50%\" side=\"left\" fill=\"currentColor\" text-anchor=\"middle\">mo</textPath>\n",
              "    </text>\n",
              "    <path class=\"displacy-arrowhead\" d=\"M770,441.5 L762,429.5 778,429.5\" fill=\"currentColor\"/>\n",
              "</g>\n",
              "\n",
              "<g class=\"displacy-arrow\">\n",
              "    <path class=\"displacy-arc\" id=\"arrow-c64e871a1cba44a4bd14ec92c6215419-0-4\" stroke-width=\"2px\" d=\"M945,439.5 C945,352.0 1080.0,352.0 1080.0,439.5\" fill=\"none\" stroke=\"currentColor\"/>\n",
              "    <text dy=\"1.25em\" style=\"font-size: 0.8em; letter-spacing: 1px\">\n",
              "        <textPath xlink:href=\"#arrow-c64e871a1cba44a4bd14ec92c6215419-0-4\" class=\"displacy-label\" startOffset=\"50%\" side=\"left\" fill=\"currentColor\" text-anchor=\"middle\">nk</textPath>\n",
              "    </text>\n",
              "    <path class=\"displacy-arrowhead\" d=\"M945,441.5 L937,429.5 953,429.5\" fill=\"currentColor\"/>\n",
              "</g>\n",
              "\n",
              "<g class=\"displacy-arrow\">\n",
              "    <path class=\"displacy-arc\" id=\"arrow-c64e871a1cba44a4bd14ec92c6215419-0-5\" stroke-width=\"2px\" d=\"M770,439.5 C770,264.5 1085.0,264.5 1085.0,439.5\" fill=\"none\" stroke=\"currentColor\"/>\n",
              "    <text dy=\"1.25em\" style=\"font-size: 0.8em; letter-spacing: 1px\">\n",
              "        <textPath xlink:href=\"#arrow-c64e871a1cba44a4bd14ec92c6215419-0-5\" class=\"displacy-label\" startOffset=\"50%\" side=\"left\" fill=\"currentColor\" text-anchor=\"middle\">nk</textPath>\n",
              "    </text>\n",
              "    <path class=\"displacy-arrowhead\" d=\"M1085.0,441.5 L1093.0,429.5 1077.0,429.5\" fill=\"currentColor\"/>\n",
              "</g>\n",
              "\n",
              "<g class=\"displacy-arrow\">\n",
              "    <path class=\"displacy-arc\" id=\"arrow-c64e871a1cba44a4bd14ec92c6215419-0-6\" stroke-width=\"2px\" d=\"M1295,439.5 C1295,352.0 1430.0,352.0 1430.0,439.5\" fill=\"none\" stroke=\"currentColor\"/>\n",
              "    <text dy=\"1.25em\" style=\"font-size: 0.8em; letter-spacing: 1px\">\n",
              "        <textPath xlink:href=\"#arrow-c64e871a1cba44a4bd14ec92c6215419-0-6\" class=\"displacy-label\" startOffset=\"50%\" side=\"left\" fill=\"currentColor\" text-anchor=\"middle\">nk</textPath>\n",
              "    </text>\n",
              "    <path class=\"displacy-arrowhead\" d=\"M1295,441.5 L1287,429.5 1303,429.5\" fill=\"currentColor\"/>\n",
              "</g>\n",
              "\n",
              "<g class=\"displacy-arrow\">\n",
              "    <path class=\"displacy-arc\" id=\"arrow-c64e871a1cba44a4bd14ec92c6215419-0-7\" stroke-width=\"2px\" d=\"M1470,439.5 C1470,352.0 1605.0,352.0 1605.0,439.5\" fill=\"none\" stroke=\"currentColor\"/>\n",
              "    <text dy=\"1.25em\" style=\"font-size: 0.8em; letter-spacing: 1px\">\n",
              "        <textPath xlink:href=\"#arrow-c64e871a1cba44a4bd14ec92c6215419-0-7\" class=\"displacy-label\" startOffset=\"50%\" side=\"left\" fill=\"currentColor\" text-anchor=\"middle\">oa</textPath>\n",
              "    </text>\n",
              "    <path class=\"displacy-arrowhead\" d=\"M1470,441.5 L1462,429.5 1478,429.5\" fill=\"currentColor\"/>\n",
              "</g>\n",
              "\n",
              "<g class=\"displacy-arrow\">\n",
              "    <path class=\"displacy-arc\" id=\"arrow-c64e871a1cba44a4bd14ec92c6215419-0-8\" stroke-width=\"2px\" d=\"M245,439.5 C245,2.0 1625.0,2.0 1625.0,439.5\" fill=\"none\" stroke=\"currentColor\"/>\n",
              "    <text dy=\"1.25em\" style=\"font-size: 0.8em; letter-spacing: 1px\">\n",
              "        <textPath xlink:href=\"#arrow-c64e871a1cba44a4bd14ec92c6215419-0-8\" class=\"displacy-label\" startOffset=\"50%\" side=\"left\" fill=\"currentColor\" text-anchor=\"middle\">oc</textPath>\n",
              "    </text>\n",
              "    <path class=\"displacy-arrowhead\" d=\"M1625.0,441.5 L1633.0,429.5 1617.0,429.5\" fill=\"currentColor\"/>\n",
              "</g>\n",
              "\n",
              "<g class=\"displacy-arrow\">\n",
              "    <path class=\"displacy-arc\" id=\"arrow-c64e871a1cba44a4bd14ec92c6215419-0-9\" stroke-width=\"2px\" d=\"M1645,439.5 C1645,352.0 1780.0,352.0 1780.0,439.5\" fill=\"none\" stroke=\"currentColor\"/>\n",
              "    <text dy=\"1.25em\" style=\"font-size: 0.8em; letter-spacing: 1px\">\n",
              "        <textPath xlink:href=\"#arrow-c64e871a1cba44a4bd14ec92c6215419-0-9\" class=\"displacy-label\" startOffset=\"50%\" side=\"left\" fill=\"currentColor\" text-anchor=\"middle\"></textPath>\n",
              "    </text>\n",
              "    <path class=\"displacy-arrowhead\" d=\"M1780.0,441.5 L1788.0,429.5 1772.0,429.5\" fill=\"currentColor\"/>\n",
              "</g>\n",
              "</svg></span>"
            ],
            "text/plain": [
              "<IPython.core.display.HTML object>"
            ]
          },
          "metadata": {
            "tags": []
          }
        }
      ]
    },
    {
      "cell_type": "markdown",
      "metadata": {
        "id": "sVtMWeD0qFfl"
      },
      "source": [
        "### Rule-based matching"
      ]
    },
    {
      "cell_type": "code",
      "metadata": {
        "id": "BqLfsuNRqEwC",
        "colab": {
          "base_uri": "https://localhost:8080/",
          "height": 34
        },
        "outputId": "dae31b13-19ad-4d1b-99a0-0aa34b932318"
      },
      "source": [
        "from spacy.matcher import Matcher\n",
        "\n",
        "# Initialize the matcher with the shared vocab\n",
        "matcher = Matcher(nlp.vocab)\n",
        "\n",
        "pattern = [\n",
        "           {\"LOWER\": \"sehr\"},\n",
        "           {\"LOWER\": \"geehrte\"},\n",
        "           {\"POS\": \"NOUN\"},\n",
        "           {\"POS\": \"PROPN\"},\n",
        "           ]\n",
        "matcher.add(\"ANY_OFFER\", None, pattern)\n",
        "\n",
        "matches = matcher(doc)\n",
        "\n",
        "# Iterate over the matches\n",
        "for match_id, start, end in matches:\n",
        "    # Get the matched span\n",
        "    matched_span = doc[start:end]\n",
        "    print(matched_span.text)"
      ],
      "execution_count": null,
      "outputs": [
        {
          "output_type": "stream",
          "text": [
            "Sehr geehrte Frau Dr.\n"
          ],
          "name": "stdout"
        }
      ]
    },
    {
      "cell_type": "code",
      "metadata": {
        "id": "TT0Y_D3EvpKm"
      },
      "source": [
        "from spacy.pipeline import EntityRuler\n",
        "\n",
        "ruler = EntityRuler(nlp)\n",
        "\n",
        "pattern = [\n",
        "           {\"LOWER\": \"sehr\"},\n",
        "           {\"LOWER\": \"geehrte\"},\n",
        "           {\"POS\": \"NOUN\"},\n",
        "           {\"POS\": \"PROPN\"},\n",
        "           ]"
      ],
      "execution_count": null,
      "outputs": []
    },
    {
      "cell_type": "code",
      "metadata": {
        "id": "-oulZU03qFH1"
      },
      "source": [
        ""
      ],
      "execution_count": null,
      "outputs": []
    },
    {
      "cell_type": "markdown",
      "metadata": {
        "id": "HcpEQ2lGW0vH"
      },
      "source": [
        "### Word vectors."
      ]
    },
    {
      "cell_type": "code",
      "metadata": {
        "id": "ukHKA51kVV1N",
        "colab": {
          "base_uri": "https://localhost:8080/",
          "height": 1000
        },
        "outputId": "ba82061b-bde0-44a4-eec3-2d75173b6f9c"
      },
      "source": [
        "# Printing a word vector for \"cat\" and its demension size\n",
        "word1 = nlp(\"Katze\")\n",
        "print(f\"{word1.vector} Dimension: {len(word1.vector)}\")"
      ],
      "execution_count": null,
      "outputs": [
        {
          "output_type": "stream",
          "text": [
            "[ 7.94400e-02  6.50390e-02  3.84020e-02  5.71960e-02 -1.07483e-01\n",
            "  9.44500e-02  1.26056e-01 -3.67150e-02 -5.19510e-02  5.70890e-02\n",
            " -3.57100e-03 -1.54680e-01 -1.79570e-01  1.22324e-01  2.95920e-02\n",
            " -1.52795e-01  1.75330e-02  2.72260e-02 -3.26880e-02 -5.72130e-02\n",
            "  7.61460e-02 -1.15061e-01 -1.18281e-01  6.27390e-02  5.73380e-02\n",
            "  8.77280e-02 -4.46090e-02 -7.46910e-02  6.35170e-02  6.42840e-02\n",
            "  5.79190e-02 -1.95661e-01 -3.66710e-02  1.02721e-01 -1.22134e-01\n",
            "  1.80000e-03  5.61740e-02  6.45820e-02 -1.47540e-02 -1.47828e-01\n",
            " -3.81200e-02 -1.64022e-01 -6.24050e-02  5.61530e-02  1.64387e-01\n",
            "  6.80460e-02  1.80591e-01 -2.91230e-02  4.31600e-03  1.40180e-02\n",
            "  4.37030e-02 -2.29150e-02 -4.17530e-02 -7.53750e-02  6.99130e-02\n",
            " -6.91130e-02  1.00700e-03  2.34009e-01 -7.96400e-02  7.47110e-02\n",
            "  2.84470e-02  5.21340e-02  8.57650e-02 -5.56790e-02 -4.64900e-02\n",
            "  3.81810e-02  6.47380e-02 -1.29101e-01 -1.56267e-01  1.19110e-01\n",
            "  9.13850e-02  8.93200e-02 -8.16340e-02  6.30740e-02 -6.76660e-02\n",
            "  1.44070e-02  2.12850e-02  6.45240e-02  1.04013e-01 -1.10746e-01\n",
            "  7.95370e-02  9.12460e-02  2.14424e-01 -1.86394e-01 -3.32400e-02\n",
            "  3.80360e-02  2.28990e-02  3.01290e-02  1.27513e-01  2.01150e-02\n",
            " -8.73650e-02 -2.94390e-02  1.04930e-02  6.57740e-02 -5.82160e-02\n",
            "  1.02430e-01  5.20330e-02 -4.48280e-02 -4.32990e-02  5.27830e-02\n",
            " -3.58120e-02  3.56700e-03  1.16421e-01 -1.03810e-01  7.15860e-02\n",
            " -3.98730e-02  2.21550e-02  9.47300e-03 -1.61150e-02  5.92110e-02\n",
            " -4.57710e-02  2.12215e-01 -7.81700e-03  1.27402e-01  3.76570e-02\n",
            "  4.96750e-02 -3.22000e-04 -1.08736e-01  1.61344e-01  2.27040e-02\n",
            "  2.65000e-04 -1.33730e-02  1.53199e-01 -2.50810e-02 -2.31450e-02\n",
            " -3.78900e-02 -1.05550e-02  6.61260e-02  1.67620e-02 -5.39610e-02\n",
            " -3.13320e-02 -1.29229e-01 -3.12710e-02 -6.54810e-02 -1.75542e-01\n",
            "  8.23610e-02  1.14890e-01 -8.59150e-02 -1.57450e-01  4.48600e-02\n",
            "  3.01070e-02 -5.51700e-03  7.71510e-02 -1.25573e-01 -3.41530e-02\n",
            " -1.87370e-02 -4.48060e-02 -2.08440e-01  3.86480e-02  1.50090e-02\n",
            " -8.72390e-02 -8.45460e-02  5.78400e-03 -3.45590e-02  2.46650e-02\n",
            "  3.33870e-02  9.68320e-02  5.29000e-04 -4.87640e-02  5.39810e-02\n",
            "  2.84190e-02  1.02709e-01  7.16530e-02 -1.69800e-02  3.89000e-02\n",
            "  6.90480e-02 -2.28250e-02 -1.45978e-01  4.61200e-03  1.73539e-01\n",
            " -6.13550e-02 -4.75370e-02  1.05050e-02  3.25560e-02 -8.26090e-02\n",
            " -1.61170e-02  5.35960e-02  6.60930e-02 -4.46100e-03 -7.47550e-02\n",
            " -5.04110e-02 -1.23754e-01  1.57300e-02  5.61170e-02  1.32400e-01\n",
            "  4.32780e-02 -1.09500e-03  6.96900e-02 -1.52421e-01 -1.24420e-02\n",
            " -2.34530e-02  2.37260e-02  1.34260e-01 -1.72595e-01 -4.84140e-02\n",
            "  1.14774e-01 -9.03800e-02 -6.27800e-03  1.07747e-01  2.75050e-02\n",
            "  7.67200e-03 -4.82220e-02 -7.80350e-02  5.30300e-02  2.93360e-01\n",
            "  1.78423e-01 -8.51500e-02  2.67010e-02 -3.22610e-02 -7.19060e-02\n",
            " -4.58380e-02 -5.10980e-02  2.13910e-02  7.12420e-02  9.65300e-03\n",
            " -1.20777e-01  7.49580e-02 -2.06305e-01 -2.84380e-02 -3.81360e-02\n",
            "  1.16445e-01 -7.28200e-03 -2.29360e-02 -1.50742e-01 -4.68000e-04\n",
            "  8.64350e-02  1.26419e-01  8.28500e-03 -6.32380e-02 -5.42600e-03\n",
            "  3.65060e-02 -9.94900e-02  1.44484e-01  1.32425e-01  6.56670e-02\n",
            "  1.72977e-01 -1.45940e-02  4.49140e-02  1.88280e-02  1.20493e-01\n",
            "  1.44272e-01  9.99400e-03  8.76720e-02  4.92210e-02  1.01975e-01\n",
            "  4.27350e-02  2.33530e-02 -5.60460e-02 -8.84690e-02 -1.19279e-01\n",
            " -1.29071e-01 -7.41390e-02 -1.22201e-01 -2.70170e-02 -7.82130e-02\n",
            " -1.47625e-01 -1.12532e-01  3.59370e-02 -2.02580e-02  7.84320e-02\n",
            " -7.21610e-02 -2.90960e-02  4.99200e-03  4.99600e-03  1.34909e-01\n",
            " -2.73480e-02  4.08080e-02 -6.94440e-02 -1.49137e-01 -4.94890e-02\n",
            "  1.04991e-01 -1.04758e-01  8.32030e-02  6.80230e-02  8.90320e-02\n",
            " -4.89890e-02  8.11840e-02 -1.16757e-01  9.19600e-03  6.74700e-02\n",
            "  5.92200e-02 -3.72300e-02 -1.12154e-01  4.72560e-02 -8.14420e-02\n",
            " -1.89260e-02 -7.91450e-02  2.42010e-02 -6.94800e-02 -4.03050e-02\n",
            "  8.97130e-02 -8.19320e-02 -2.36647e-01  1.12787e-01  5.05960e-02\n",
            " -1.57800e-02 -4.11970e-02 -1.07039e-01  1.26944e-01 -3.58940e-02] Dimension: 300\n"
          ],
          "name": "stdout"
        }
      ]
    },
    {
      "cell_type": "code",
      "metadata": {
        "id": "IEVnzZi8VV4a",
        "colab": {
          "base_uri": "https://localhost:8080/",
          "height": 34
        },
        "outputId": "1c4bf2ce-634a-44d4-e51a-edfe211f50fb"
      },
      "source": [
        "# Cosine similarity of cat and dog\n",
        "word2 = nlp(\"Hund\")\n",
        "print(word1.similarity(word2))"
      ],
      "execution_count": null,
      "outputs": [
        {
          "output_type": "stream",
          "text": [
            "0.63144929286022\n"
          ],
          "name": "stdout"
        }
      ]
    },
    {
      "cell_type": "code",
      "metadata": {
        "id": "Rd_USMwcUKPQ",
        "colab": {
          "base_uri": "https://localhost:8080/",
          "height": 34
        },
        "outputId": "3772ebfa-da40-48b1-b96c-c137518f0be0"
      },
      "source": [
        "# Cosine similarity of 2 different documents by averaging word vectors\n",
        "doc1 = nlp(\"Ich möchte 20 Monolith Sanitärmodulen bestellen.\")\n",
        "doc2 = nlp(\"Bitte bestellen Sie 20 Monolith Sanitärmodule.\")\n",
        "\n",
        "print(doc1.similarity(doc2))\n"
      ],
      "execution_count": null,
      "outputs": [
        {
          "output_type": "stream",
          "text": [
            "0.8386252986628338\n"
          ],
          "name": "stdout"
        }
      ]
    },
    {
      "cell_type": "code",
      "metadata": {
        "id": "7C1U5xmi7PB0",
        "colab": {
          "base_uri": "https://localhost:8080/",
          "height": 34
        },
        "outputId": "36209ae9-24f5-4a2d-d959-30276be065dd"
      },
      "source": [
        "# Cosine similarity of 2 different documents by averaging word vectors\n",
        "string1 = \"Ich möchte 20 Monolith Sanitärmodulen bestellen.\"\n",
        "string2 = \"Bitte bestellen Sie 20 Monolith Sanitärmodule.\"\n",
        "\n",
        "doc1 = nlp(' '.join([str(t) for t in nlp(string1) if not t.is_stop]))\n",
        "doc2 = nlp(' '.join([str(t) for t in nlp(string2) if not t.is_stop]))\n",
        "\n",
        "print(doc1.similarity(doc2))"
      ],
      "execution_count": null,
      "outputs": [
        {
          "output_type": "stream",
          "text": [
            "0.7819968069549414\n"
          ],
          "name": "stdout"
        }
      ]
    },
    {
      "cell_type": "code",
      "metadata": {
        "id": "YHHKowLSYfKo",
        "colab": {
          "base_uri": "https://localhost:8080/",
          "height": 34
        },
        "outputId": "c56c8606-7a1d-4c28-a2b3-437aa788b173"
      },
      "source": [
        "# A somewhat related topic\n",
        "doc1 = nlp(\"Ich möchte 20 Monolith Sanitärmodulen bestellen.\")\n",
        "doc2 = nlp(\"Bis wann können Sie die Monolith Sanitärmodulen liefern?\")\n",
        "print(doc1.similarity(doc2))"
      ],
      "execution_count": null,
      "outputs": [
        {
          "output_type": "stream",
          "text": [
            "0.7561470737760702\n"
          ],
          "name": "stdout"
        }
      ]
    },
    {
      "cell_type": "code",
      "metadata": {
        "id": "H64PPUg1Zj1J",
        "colab": {
          "base_uri": "https://localhost:8080/",
          "height": 34
        },
        "outputId": "904057d4-5469-4c45-ac0b-a44d0419bef5"
      },
      "source": [
        "# A less related topic\n",
        "doc1 = nlp(\"Ich möchte 20 Monolith Sanitärmodulen bestellen.\")\n",
        "doc2 = nlp(\"Die Bestellung erfolgt mit 30 Tage Zahlungsziel\")\n",
        "print(doc1.similarity(doc2))"
      ],
      "execution_count": null,
      "outputs": [
        {
          "output_type": "stream",
          "text": [
            "0.6448197949078333\n"
          ],
          "name": "stdout"
        }
      ]
    },
    {
      "cell_type": "code",
      "metadata": {
        "id": "-7vbjuZdaC92",
        "colab": {
          "base_uri": "https://localhost:8080/",
          "height": 34
        },
        "outputId": "2135c751-a8c8-40ba-c79e-721d3dcf54dd"
      },
      "source": [
        "# Unrelated\n",
        "doc1 = nlp(\"Ich möchte 20 Monolith Sanitärmodulen bestellen.\")\n",
        "doc2 = nlp(\"Wo ist meine Katze?\")\n",
        "print(doc1.similarity(doc2))"
      ],
      "execution_count": null,
      "outputs": [
        {
          "output_type": "stream",
          "text": [
            "0.6895539149878707\n"
          ],
          "name": "stdout"
        }
      ]
    },
    {
      "cell_type": "markdown",
      "metadata": {
        "id": "iMra5AGuWH72"
      },
      "source": [
        "### Working with bigger datasets\n"
      ]
    },
    {
      "cell_type": "code",
      "metadata": {
        "id": "cYDcjtvyl9I1"
      },
      "source": [
        "import pandas as pd"
      ],
      "execution_count": null,
      "outputs": []
    },
    {
      "cell_type": "code",
      "metadata": {
        "id": "Zwb7RGK6l9Mu"
      },
      "source": [
        "articles = pd.read_csv('https://raw.githubusercontent.com/tblock/10kGNAD/master/train.csv', sep=';', names = ['topic', 'text'],header=None, error_bad_lines=False)\n"
      ],
      "execution_count": null,
      "outputs": []
    },
    {
      "cell_type": "code",
      "metadata": {
        "id": "ylWSfXkDocZm",
        "colab": {
          "base_uri": "https://localhost:8080/",
          "height": 70
        },
        "outputId": "fe57876b-9d08-4173-e4fe-af88350c5399"
      },
      "source": [
        "print(articles.text[0])\n",
        "print('Topic is: ', articles.topic[0])"
      ],
      "execution_count": null,
      "outputs": [
        {
          "output_type": "stream",
          "text": [
            "21-Jähriger fällt wohl bis Saisonende aus. Wien – Rapid muss wohl bis Saisonende auf Offensivspieler Thomas Murg verzichten. Der im Winter aus Ried gekommene 21-Jährige erlitt beim 0:4-Heimdebakel gegen Admira Wacker Mödling am Samstag einen Teilriss des Innenbandes im linken Knie, wie eine Magnetresonanz-Untersuchung am Donnerstag ergab. Murg erhielt eine Schiene, muss aber nicht operiert werden. Dennoch steht ihm eine mehrwöchige Pause bevor.\n",
            "Topic is:  Sport\n"
          ],
          "name": "stdout"
        }
      ]
    },
    {
      "cell_type": "markdown",
      "metadata": {
        "id": "2EVcaHz4XWqT"
      },
      "source": [
        "#### Spacy way to handle big text datasets\n",
        "Spacy allows multi-processing by treating texts as a stream and yielding Doc objects. In addition, when an nlp object is created, spaCy adds pipelines. By disabling unused pipeline components, spaCy can become even faster! Pipelines can be customized.\n"
      ]
    },
    {
      "cell_type": "code",
      "metadata": {
        "id": "2BedXe1kXv4n",
        "colab": {
          "base_uri": "https://localhost:8080/",
          "height": 34
        },
        "outputId": "bc6c1ef2-2ed5-457a-f5f9-ffe1f78fc459"
      },
      "source": [
        "%%timeit\n",
        "token_list = []\n",
        "\n",
        "for doc in nlp.pipe(articles.text.astype('unicode').values, batch_size=100, n_threads=40):\n",
        "    word_list = []\n",
        "    for token in doc:\n",
        "        word_list.append(token.text)\n",
        "        \n",
        "    token_list.append(word_list)\n",
        "\n",
        "\n",
        "articles['token_list'] = token_list"
      ],
      "execution_count": null,
      "outputs": [
        {
          "output_type": "stream",
          "text": [
            "1 loop, best of 3: 6min 1s per loop\n"
          ],
          "name": "stdout"
        }
      ]
    },
    {
      "cell_type": "code",
      "metadata": {
        "id": "DbYooEpTYYeb",
        "colab": {
          "base_uri": "https://localhost:8080/",
          "height": 67
        },
        "outputId": "908f7678-b258-4723-bd91-8def7e94450e"
      },
      "source": [
        "# Print pipeline components\n",
        "for p in nlp.pipeline:\n",
        "    print(p)"
      ],
      "execution_count": null,
      "outputs": [
        {
          "output_type": "stream",
          "text": [
            "('tagger', <spacy.pipeline.pipes.Tagger object at 0x7f6e6025e278>)\n",
            "('parser', <spacy.pipeline.pipes.DependencyParser object at 0x7f6e5e9d7708>)\n",
            "('ner', <spacy.pipeline.pipes.EntityRecognizer object at 0x7f6e5e9d7768>)\n"
          ],
          "name": "stdout"
        }
      ]
    },
    {
      "cell_type": "code",
      "metadata": {
        "id": "dJab2M4CYess",
        "colab": {
          "base_uri": "https://localhost:8080/",
          "height": 34
        },
        "outputId": "27ac1278-53bb-467f-b856-6b8aa83fd0b7"
      },
      "source": [
        "%%timeit\n",
        "token_list = []\n",
        "count = 0\n",
        "# Disable POS, Dependency Parser, and NER since all we want is tokenizer \n",
        "# Alternatively, you can use nlp.make_doc method, which skips all pipelines, if you just need a tokenizer.\n",
        "with nlp.disable_pipes('tagger', 'parser', 'ner'):\n",
        "    for doc in nlp.pipe(articles.text.astype('unicode').values, batch_size=100, n_threads=40):\n",
        "        word_list = []\n",
        "        for token in doc:\n",
        "            word_list.append(token.text)\n",
        "\n",
        "        token_list.append(word_list)\n",
        "\n",
        "articles['token_list2'] = token_list"
      ],
      "execution_count": null,
      "outputs": [
        {
          "output_type": "stream",
          "text": [
            "1 loop, best of 3: 12.9 s per loop\n"
          ],
          "name": "stdout"
        }
      ]
    },
    {
      "cell_type": "markdown",
      "metadata": {
        "id": "NZGosxPZkHPI"
      },
      "source": [
        "### Using GPU"
      ]
    },
    {
      "cell_type": "code",
      "metadata": {
        "id": "rs8s5D22a0e4",
        "colab": {
          "base_uri": "https://localhost:8080/",
          "height": 34
        },
        "outputId": "13ea32b5-bbd7-4ea5-e5c2-646622f740fb"
      },
      "source": [
        "# Make sure GPU is enabled\n",
        "spacy.prefer_gpu()"
      ],
      "execution_count": null,
      "outputs": [
        {
          "output_type": "execute_result",
          "data": {
            "text/plain": [
              "True"
            ]
          },
          "metadata": {
            "tags": []
          },
          "execution_count": 27
        }
      ]
    },
    {
      "cell_type": "code",
      "metadata": {
        "id": "DFdKab4Ga3Y8",
        "colab": {
          "base_uri": "https://localhost:8080/",
          "height": 34
        },
        "outputId": "aeb291fc-754d-4473-85df-542e641e42c7"
      },
      "source": [
        "# Use the first GPU card\n",
        "spacy.util.use_gpu(0)"
      ],
      "execution_count": null,
      "outputs": [
        {
          "output_type": "execute_result",
          "data": {
            "text/plain": [
              "<CUDA Device 0>"
            ]
          },
          "metadata": {
            "tags": []
          },
          "execution_count": 28
        }
      ]
    }
  ]
}